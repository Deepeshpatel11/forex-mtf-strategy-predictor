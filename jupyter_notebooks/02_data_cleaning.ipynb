{
  "cells": [
    {
      "cell_type": "markdown",
      "metadata": {
        "id": "0aStgWSO0E0E"
      },
      "source": [
        "# 02 - Data Cleaning and Resampling"
      ]
    },
    {
      "cell_type": "markdown",
      "metadata": {
        "id": "1eLEkw5O0ECa"
      },
      "source": [
        "**Objective:**  \n",
        "1. Validate the raw 1H OHLCV data collected from OANDA.  \n",
        "2. Identify and handle missing data, duplicates, and any data quality issues.  \n",
        "3. Resample 1H data to 4H, Daily, and Weekly timeframes for multi-timeframe analysis.  \n",
        "4. Validate the resampled data.  \n",
        "5. Apply the process to all 7 currency pairs and save processed files.\n",
        "\n",
        "**Key Steps:**  \n",
        "- Data Validation (Check completeness & integrity)  \n",
        "- Resampling & Feature Aggregation  \n",
        "- Save Processed Data for Model Training"
      ]
    },
    {
      "cell_type": "markdown",
      "metadata": {
        "id": "9uWZXH9LwoQg"
      },
      "source": [
        "---"
      ]
    },
    {
      "cell_type": "markdown",
      "metadata": {
        "id": "cqP-UeN-z3i2"
      },
      "source": [
        "# Change working directory"
      ]
    },
    {
      "cell_type": "markdown",
      "metadata": {
        "id": "aOGIGS-uz3i2"
      },
      "source": [
        "We need to change the working directory from its current folder to its parent folder\n",
        "* We access the current directory with os.getcwd()"
      ]
    },
    {
      "cell_type": "code",
      "execution_count": 1,
      "metadata": {
        "id": "wZfF_j-Bz3i4",
        "outputId": "66943449-1436-4c3d-85c7-b85f9f78349b"
      },
      "outputs": [
        {
          "data": {
            "text/plain": [
              "'/workspaces/forex-mtf-strategy-predictor/jupyter_notebooks'"
            ]
          },
          "execution_count": 1,
          "metadata": {},
          "output_type": "execute_result"
        }
      ],
      "source": [
        "import os\n",
        "current_dir = os.getcwd()\n",
        "current_dir"
      ]
    },
    {
      "cell_type": "markdown",
      "metadata": {
        "id": "9MWW8E7lz3i7"
      },
      "source": [
        "We want to make the parent of the current directory the new current directory\n",
        "* os.path.dirname() gets the parent directory\n",
        "* os.chir() defines the new current directory"
      ]
    },
    {
      "cell_type": "code",
      "execution_count": 2,
      "metadata": {
        "id": "TwHsQRWjz3i9",
        "outputId": "86849db3-cd2f-4cc5-ebb8-2d0caafa1a2c"
      },
      "outputs": [
        {
          "name": "stdout",
          "output_type": "stream",
          "text": [
            "You set a new current directory\n"
          ]
        }
      ],
      "source": [
        "os.chdir(os.path.dirname(current_dir))\n",
        "print(\"You set a new current directory\")"
      ]
    },
    {
      "cell_type": "markdown",
      "metadata": {
        "id": "M_xPk_Ijz3i-"
      },
      "source": [
        "Confirm the new current directory"
      ]
    },
    {
      "cell_type": "code",
      "execution_count": 3,
      "metadata": {
        "id": "vz3S-_kjz3jA",
        "outputId": "00b79ae4-75d0-4a96-d193-ac9ef9847ea2"
      },
      "outputs": [
        {
          "data": {
            "text/plain": [
              "'/workspaces/forex-mtf-strategy-predictor'"
            ]
          },
          "execution_count": 3,
          "metadata": {},
          "output_type": "execute_result"
        }
      ],
      "source": [
        "current_dir = os.getcwd()\n",
        "current_dir"
      ]
    },
    {
      "cell_type": "markdown",
      "metadata": {
        "id": "-mavJ8DibrcQ"
      },
      "source": [
        "## Import Libraries and Setup Paths"
      ]
    },
    {
      "cell_type": "markdown",
      "metadata": {},
      "source": [
        "We import Pandas and Pathlib for file management,  \n",
        "and our custom `data_cleaning` functions from `src/`."
      ]
    },
    {
      "cell_type": "code",
      "execution_count": 20,
      "metadata": {},
      "outputs": [
        {
          "name": "stdout",
          "output_type": "stream",
          "text": [
            "Raw CSVs: [PosixPath('data/raw/EUR_USD_1H.csv'), PosixPath('data/raw/USD_JPY_1H.csv'), PosixPath('data/raw/AUD_USD_1H.csv'), PosixPath('data/raw/NZD_USD_1H.csv'), PosixPath('data/raw/USD_CAD_1H.csv'), PosixPath('data/raw/USD_CHF_1H.csv'), PosixPath('data/raw/GBP_USD_1H.csv')]\n"
          ]
        }
      ],
      "source": [
        "from pathlib import Path\n",
        "import pandas as pd\n",
        "from src.data_cleaning import validate_ohlc_data, resample_ohlc, validate_resampled_data\n",
        "\n",
        "# Set correct paths relative to project root\n",
        "raw_path = Path(\"data/raw\")\n",
        "processed_path = Path(\"data/processed\")\n",
        "processed_path.mkdir(parents=True, exist_ok=True)\n",
        "\n",
        "# Display settings\n",
        "pd.set_option('display.max_rows', 5)\n",
        "pd.set_option('display.max_columns', None)\n",
        "\n",
        "print(\"Raw CSVs:\", list(raw_path.glob(\"*.csv\")))\n"
      ]
    },
    {
      "cell_type": "markdown",
      "metadata": {
        "id": "ZY3l0-AxO93d"
      },
      "source": [
        "---"
      ]
    },
    {
      "cell_type": "markdown",
      "metadata": {
        "id": "uFQo3ycuO-v6"
      },
      "source": [
        "## Load and Inspect 1H Raw Data"
      ]
    },
    {
      "cell_type": "markdown",
      "metadata": {},
      "source": [
        "We start with one currency pair (`EUR_USD`) to:\n",
        "1. Inspect data structure\n",
        "2. Check columns and data types\n",
        "3. Look for missing values or duplicates\n"
      ]
    },
    {
      "cell_type": "code",
      "execution_count": 21,
      "metadata": {},
      "outputs": [
        {
          "name": "stdout",
          "output_type": "stream",
          "text": [
            "Looking for: /workspaces/forex-mtf-strategy-predictor/data/raw/EUR_USD_1H.csv\n",
            "<class 'pandas.core.frame.DataFrame'>\n",
            "RangeIndex: 43800 entries, 0 to 43799\n",
            "Data columns (total 6 columns):\n",
            " #   Column     Non-Null Count  Dtype              \n",
            "---  ------     --------------  -----              \n",
            " 0   timestamp  43800 non-null  datetime64[ns, UTC]\n",
            " 1   open       43800 non-null  float64            \n",
            " 2   high       43800 non-null  float64            \n",
            " 3   low        43800 non-null  float64            \n",
            " 4   close      43800 non-null  float64            \n",
            " 5   volume     43800 non-null  int64              \n",
            "dtypes: datetime64[ns, UTC](1), float64(4), int64(1)\n",
            "memory usage: 2.0 MB\n",
            "None\n"
          ]
        },
        {
          "data": {
            "text/html": [
              "<div>\n",
              "<style scoped>\n",
              "    .dataframe tbody tr th:only-of-type {\n",
              "        vertical-align: middle;\n",
              "    }\n",
              "\n",
              "    .dataframe tbody tr th {\n",
              "        vertical-align: top;\n",
              "    }\n",
              "\n",
              "    .dataframe thead th {\n",
              "        text-align: right;\n",
              "    }\n",
              "</style>\n",
              "<table border=\"1\" class=\"dataframe\">\n",
              "  <thead>\n",
              "    <tr style=\"text-align: right;\">\n",
              "      <th></th>\n",
              "      <th>timestamp</th>\n",
              "      <th>open</th>\n",
              "      <th>high</th>\n",
              "      <th>low</th>\n",
              "      <th>close</th>\n",
              "      <th>volume</th>\n",
              "    </tr>\n",
              "  </thead>\n",
              "  <tbody>\n",
              "    <tr>\n",
              "      <th>0</th>\n",
              "      <td>2018-07-19 08:00:00+00:00</td>\n",
              "      <td>1.16080</td>\n",
              "      <td>1.16186</td>\n",
              "      <td>1.16041</td>\n",
              "      <td>1.16128</td>\n",
              "      <td>6352</td>\n",
              "    </tr>\n",
              "    <tr>\n",
              "      <th>1</th>\n",
              "      <td>2018-07-19 09:00:00+00:00</td>\n",
              "      <td>1.16133</td>\n",
              "      <td>1.16160</td>\n",
              "      <td>1.15951</td>\n",
              "      <td>1.16062</td>\n",
              "      <td>4379</td>\n",
              "    </tr>\n",
              "    <tr>\n",
              "      <th>2</th>\n",
              "      <td>2018-07-19 10:00:00+00:00</td>\n",
              "      <td>1.16060</td>\n",
              "      <td>1.16142</td>\n",
              "      <td>1.15954</td>\n",
              "      <td>1.15956</td>\n",
              "      <td>3570</td>\n",
              "    </tr>\n",
              "    <tr>\n",
              "      <th>3</th>\n",
              "      <td>2018-07-19 11:00:00+00:00</td>\n",
              "      <td>1.15960</td>\n",
              "      <td>1.16006</td>\n",
              "      <td>1.15858</td>\n",
              "      <td>1.16004</td>\n",
              "      <td>4001</td>\n",
              "    </tr>\n",
              "    <tr>\n",
              "      <th>4</th>\n",
              "      <td>2018-07-19 12:00:00+00:00</td>\n",
              "      <td>1.16006</td>\n",
              "      <td>1.16010</td>\n",
              "      <td>1.15748</td>\n",
              "      <td>1.15864</td>\n",
              "      <td>4080</td>\n",
              "    </tr>\n",
              "  </tbody>\n",
              "</table>\n",
              "</div>"
            ],
            "text/plain": [
              "                  timestamp     open     high      low    close  volume\n",
              "0 2018-07-19 08:00:00+00:00  1.16080  1.16186  1.16041  1.16128    6352\n",
              "1 2018-07-19 09:00:00+00:00  1.16133  1.16160  1.15951  1.16062    4379\n",
              "2 2018-07-19 10:00:00+00:00  1.16060  1.16142  1.15954  1.15956    3570\n",
              "3 2018-07-19 11:00:00+00:00  1.15960  1.16006  1.15858  1.16004    4001\n",
              "4 2018-07-19 12:00:00+00:00  1.16006  1.16010  1.15748  1.15864    4080"
            ]
          },
          "execution_count": 21,
          "metadata": {},
          "output_type": "execute_result"
        }
      ],
      "source": [
        "pair = \"EUR_USD\"\n",
        "file_path = raw_path / f\"{pair}_1H.csv\"\n",
        "\n",
        "print(\"Looking for:\", file_path.resolve())  # Debug\n",
        "\n",
        "df = pd.read_csv(file_path, parse_dates=[\"timestamp\"])\n",
        "print(df.info())\n",
        "df.head()\n"
      ]
    },
    {
      "cell_type": "markdown",
      "metadata": {},
      "source": [
        "---"
      ]
    },
    {
      "cell_type": "markdown",
      "metadata": {},
      "source": [
        "## Validate Raw Data"
      ]
    },
    {
      "cell_type": "markdown",
      "metadata": {},
      "source": [
        "We use our `validate_ohlc_data` function to check:\n",
        "1. Missing values\n",
        "2. Duplicate rows\n",
        "3. Timestamp continuity"
      ]
    },
    {
      "cell_type": "code",
      "execution_count": 22,
      "metadata": {},
      "outputs": [
        {
          "name": "stdout",
          "output_type": "stream",
          "text": [
            "{'row_count': 43800, 'missing_values': {'timestamp': 0, 'open': 0, 'high': 0, 'low': 0, 'close': 0, 'volume': 0}, 'duplicate_rows': np.int64(0), 'gaps_found': 375}\n"
          ]
        },
        {
          "name": "stderr",
          "output_type": "stream",
          "text": [
            "/workspaces/forex-mtf-strategy-predictor/src/data_cleaning.py:25: FutureWarning: 'H' is deprecated and will be removed in a future version. Please use 'h' instead of 'H'.\n",
            "  gaps = df_sorted[df_sorted[\"diff\"] > pd.Timedelta(\"1H\")]\n"
          ]
        }
      ],
      "source": [
        "issues_raw = validate_ohlc_data(df)\n",
        "print(issues_raw)"
      ]
    },
    {
      "cell_type": "markdown",
      "metadata": {},
      "source": [
        "---"
      ]
    },
    {
      "cell_type": "markdown",
      "metadata": {},
      "source": [
        "## Resample Data for One Pair"
      ]
    },
    {
      "cell_type": "markdown",
      "metadata": {},
      "source": [
        "We resample `EUR_USD` 1H data to:\n",
        "- 4H (H4)\n",
        "- 1D (Daily)\n",
        "- 1W (Weekly)\n",
        "\n",
        "We aggregate:\n",
        "- **Open** = first value\n",
        "- **High** = max value\n",
        "- **Low** = min value\n",
        "- **Close** = last value\n",
        "- **Volume** = sum"
      ]
    },
    {
      "cell_type": "code",
      "execution_count": 23,
      "metadata": {},
      "outputs": [
        {
          "name": "stdout",
          "output_type": "stream",
          "text": [
            "Sample 4H data:\n"
          ]
        },
        {
          "name": "stderr",
          "output_type": "stream",
          "text": [
            "/workspaces/forex-mtf-strategy-predictor/src/data_cleaning.py:52: FutureWarning: 'H' is deprecated and will be removed in a future version, please use 'h' instead.\n",
            "  df_resampled = df.resample(timeframe).apply(ohlc).dropna()\n"
          ]
        },
        {
          "data": {
            "text/html": [
              "<div>\n",
              "<style scoped>\n",
              "    .dataframe tbody tr th:only-of-type {\n",
              "        vertical-align: middle;\n",
              "    }\n",
              "\n",
              "    .dataframe tbody tr th {\n",
              "        vertical-align: top;\n",
              "    }\n",
              "\n",
              "    .dataframe thead th {\n",
              "        text-align: right;\n",
              "    }\n",
              "</style>\n",
              "<table border=\"1\" class=\"dataframe\">\n",
              "  <thead>\n",
              "    <tr style=\"text-align: right;\">\n",
              "      <th></th>\n",
              "      <th>open</th>\n",
              "      <th>high</th>\n",
              "      <th>low</th>\n",
              "      <th>close</th>\n",
              "      <th>volume</th>\n",
              "    </tr>\n",
              "    <tr>\n",
              "      <th>timestamp</th>\n",
              "      <th></th>\n",
              "      <th></th>\n",
              "      <th></th>\n",
              "      <th></th>\n",
              "      <th></th>\n",
              "    </tr>\n",
              "  </thead>\n",
              "  <tbody>\n",
              "    <tr>\n",
              "      <th>2018-07-19 08:00:00+00:00</th>\n",
              "      <td>1.16080</td>\n",
              "      <td>1.16186</td>\n",
              "      <td>1.15858</td>\n",
              "      <td>1.16004</td>\n",
              "      <td>18302</td>\n",
              "    </tr>\n",
              "    <tr>\n",
              "      <th>2018-07-19 12:00:00+00:00</th>\n",
              "      <td>1.16006</td>\n",
              "      <td>1.16222</td>\n",
              "      <td>1.15748</td>\n",
              "      <td>1.16032</td>\n",
              "      <td>15041</td>\n",
              "    </tr>\n",
              "    <tr>\n",
              "      <th>2018-07-19 16:00:00+00:00</th>\n",
              "      <td>1.16033</td>\n",
              "      <td>1.16789</td>\n",
              "      <td>1.16024</td>\n",
              "      <td>1.16364</td>\n",
              "      <td>22171</td>\n",
              "    </tr>\n",
              "    <tr>\n",
              "      <th>2018-07-19 20:00:00+00:00</th>\n",
              "      <td>1.16364</td>\n",
              "      <td>1.16560</td>\n",
              "      <td>1.16321</td>\n",
              "      <td>1.16548</td>\n",
              "      <td>5751</td>\n",
              "    </tr>\n",
              "    <tr>\n",
              "      <th>2018-07-20 00:00:00+00:00</th>\n",
              "      <td>1.16548</td>\n",
              "      <td>1.16599</td>\n",
              "      <td>1.16264</td>\n",
              "      <td>1.16501</td>\n",
              "      <td>15689</td>\n",
              "    </tr>\n",
              "  </tbody>\n",
              "</table>\n",
              "</div>"
            ],
            "text/plain": [
              "                              open     high      low    close  volume\n",
              "timestamp                                                            \n",
              "2018-07-19 08:00:00+00:00  1.16080  1.16186  1.15858  1.16004   18302\n",
              "2018-07-19 12:00:00+00:00  1.16006  1.16222  1.15748  1.16032   15041\n",
              "2018-07-19 16:00:00+00:00  1.16033  1.16789  1.16024  1.16364   22171\n",
              "2018-07-19 20:00:00+00:00  1.16364  1.16560  1.16321  1.16548    5751\n",
              "2018-07-20 00:00:00+00:00  1.16548  1.16599  1.16264  1.16501   15689"
            ]
          },
          "metadata": {},
          "output_type": "display_data"
        }
      ],
      "source": [
        "# Set timestamp as index for resampling\n",
        "df.set_index(\"timestamp\", inplace=True)\n",
        "\n",
        "df_4h = resample_ohlc(df, \"4H\")\n",
        "df_1d = resample_ohlc(df, \"1D\")\n",
        "df_1w = resample_ohlc(df, \"1W\")\n",
        "\n",
        "print(\"Sample 4H data:\")\n",
        "display(df_4h.head())"
      ]
    },
    {
      "cell_type": "markdown",
      "metadata": {},
      "source": [
        "---"
      ]
    },
    {
      "cell_type": "markdown",
      "metadata": {},
      "source": [
        "## Validate Resampled Data"
      ]
    },
    {
      "cell_type": "markdown",
      "metadata": {},
      "source": [
        "We check the resampled data for:\n",
        "1. Correct timeframe intervals\n",
        "2. Missing values\n",
        "3. Logical OHLC structure"
      ]
    },
    {
      "cell_type": "code",
      "execution_count": 24,
      "metadata": {},
      "outputs": [
        {
          "name": "stdout",
          "output_type": "stream",
          "text": [
            "4H Validation: {'row_count': 11326, 'missing_values': {'open': 0, 'high': 0, 'low': 0, 'close': 0, 'volume': 0}, 'duplicate_rows': np.int64(0), 'timeframe': '4H'}\n",
            "1D Validation: {'row_count': 2198, 'missing_values': {'open': 0, 'high': 0, 'low': 0, 'close': 0, 'volume': 0}, 'duplicate_rows': np.int64(0), 'timeframe': '1D'}\n",
            "1W Validation: {'row_count': 368, 'missing_values': {'open': 0, 'high': 0, 'low': 0, 'close': 0, 'volume': 0}, 'duplicate_rows': np.int64(0), 'timeframe': '1W'}\n"
          ]
        }
      ],
      "source": [
        "print(\"4H Validation:\", validate_resampled_data(df_4h, \"4H\"))\n",
        "print(\"1D Validation:\", validate_resampled_data(df_1d, \"1D\"))\n",
        "print(\"1W Validation:\", validate_resampled_data(df_1w, \"1W\"))"
      ]
    },
    {
      "cell_type": "markdown",
      "metadata": {},
      "source": [
        "---"
      ]
    },
    {
      "cell_type": "markdown",
      "metadata": {},
      "source": [
        "## Apply Resampling to All Currency Pairs"
      ]
    },
    {
      "cell_type": "markdown",
      "metadata": {},
      "source": [
        "After confirming that resampling works for one pair,\n",
        "we loop through all pairs and save processed CSVs in `data/processed/`."
      ]
    },
    {
      "cell_type": "code",
      "execution_count": 25,
      "metadata": {},
      "outputs": [
        {
          "name": "stderr",
          "output_type": "stream",
          "text": [
            "/workspaces/forex-mtf-strategy-predictor/src/data_cleaning.py:52: FutureWarning: 'H' is deprecated and will be removed in a future version, please use 'h' instead.\n",
            "  df_resampled = df.resample(timeframe).apply(ohlc).dropna()\n"
          ]
        },
        {
          "name": "stdout",
          "output_type": "stream",
          "text": [
            "Processed EUR_USD: 4H=11326, 1D=2198, 1W=368\n"
          ]
        },
        {
          "name": "stderr",
          "output_type": "stream",
          "text": [
            "/workspaces/forex-mtf-strategy-predictor/src/data_cleaning.py:52: FutureWarning: 'H' is deprecated and will be removed in a future version, please use 'h' instead.\n",
            "  df_resampled = df.resample(timeframe).apply(ohlc).dropna()\n"
          ]
        },
        {
          "name": "stdout",
          "output_type": "stream",
          "text": [
            "Processed USD_JPY: 4H=11322, 1D=2197, 1W=368\n"
          ]
        },
        {
          "name": "stderr",
          "output_type": "stream",
          "text": [
            "/workspaces/forex-mtf-strategy-predictor/src/data_cleaning.py:52: FutureWarning: 'H' is deprecated and will be removed in a future version, please use 'h' instead.\n",
            "  df_resampled = df.resample(timeframe).apply(ohlc).dropna()\n"
          ]
        },
        {
          "name": "stdout",
          "output_type": "stream",
          "text": [
            "Processed GBP_USD: 4H=11326, 1D=2198, 1W=368\n"
          ]
        },
        {
          "name": "stderr",
          "output_type": "stream",
          "text": [
            "/workspaces/forex-mtf-strategy-predictor/src/data_cleaning.py:52: FutureWarning: 'H' is deprecated and will be removed in a future version, please use 'h' instead.\n",
            "  df_resampled = df.resample(timeframe).apply(ohlc).dropna()\n"
          ]
        },
        {
          "name": "stdout",
          "output_type": "stream",
          "text": [
            "Processed USD_CHF: 4H=11325, 1D=2198, 1W=368\n"
          ]
        },
        {
          "name": "stderr",
          "output_type": "stream",
          "text": [
            "/workspaces/forex-mtf-strategy-predictor/src/data_cleaning.py:52: FutureWarning: 'H' is deprecated and will be removed in a future version, please use 'h' instead.\n",
            "  df_resampled = df.resample(timeframe).apply(ohlc).dropna()\n"
          ]
        },
        {
          "name": "stdout",
          "output_type": "stream",
          "text": [
            "Processed AUD_USD: 4H=11328, 1D=2198, 1W=368\n"
          ]
        },
        {
          "name": "stderr",
          "output_type": "stream",
          "text": [
            "/workspaces/forex-mtf-strategy-predictor/src/data_cleaning.py:52: FutureWarning: 'H' is deprecated and will be removed in a future version, please use 'h' instead.\n",
            "  df_resampled = df.resample(timeframe).apply(ohlc).dropna()\n"
          ]
        },
        {
          "name": "stdout",
          "output_type": "stream",
          "text": [
            "Processed USD_CAD: 4H=11320, 1D=2197, 1W=368\n",
            "Processed NZD_USD: 4H=11327, 1D=2198, 1W=368\n",
            "All pairs processed and saved to data/processed/\n"
          ]
        },
        {
          "name": "stderr",
          "output_type": "stream",
          "text": [
            "/workspaces/forex-mtf-strategy-predictor/src/data_cleaning.py:52: FutureWarning: 'H' is deprecated and will be removed in a future version, please use 'h' instead.\n",
            "  df_resampled = df.resample(timeframe).apply(ohlc).dropna()\n"
          ]
        }
      ],
      "source": [
        "pairs = [\"EUR_USD\", \"USD_JPY\", \"GBP_USD\", \"USD_CHF\", \"AUD_USD\", \"USD_CAD\", \"NZD_USD\"]\n",
        "\n",
        "for pair in pairs:\n",
        "    df = pd.read_csv(raw_path / f\"{pair}_1H.csv\", parse_dates=[\"timestamp\"])\n",
        "    df.set_index(\"timestamp\", inplace=True)\n",
        "    \n",
        "    df_4h = resample_ohlc(df, \"4H\")\n",
        "    df_1d = resample_ohlc(df, \"1D\")\n",
        "    df_1w = resample_ohlc(df, \"1W\")\n",
        "    \n",
        "    df_4h.to_csv(processed_path / f\"{pair}_4H.csv\")\n",
        "    df_1d.to_csv(processed_path / f\"{pair}_1D.csv\")\n",
        "    df_1w.to_csv(processed_path / f\"{pair}_1W.csv\")\n",
        "    \n",
        "    print(f\"Processed {pair}: 4H={len(df_4h)}, 1D={len(df_1d)}, 1W={len(df_1w)}\")\n",
        "\n",
        "print(\"All pairs processed and saved to data/processed/\")\n"
      ]
    },
    {
      "cell_type": "markdown",
      "metadata": {},
      "source": [
        "---"
      ]
    },
    {
      "cell_type": "markdown",
      "metadata": {
        "id": "ltNetd085qHf"
      },
      "source": [
        "# Push files to Repo"
      ]
    },
    {
      "cell_type": "markdown",
      "metadata": {},
      "source": [
        "### 1. Check current git status"
      ]
    },
    {
      "cell_type": "code",
      "execution_count": 26,
      "metadata": {},
      "outputs": [
        {
          "name": "stdout",
          "output_type": "stream",
          "text": [
            "On branch main\n",
            "Your branch is ahead of 'origin/main' by 1 commit.\n",
            "  (use \"git push\" to publish your local commits)\n",
            "\n",
            "Changes not staged for commit:\n",
            "  (use \"git add <file>...\" to update what will be committed)\n",
            "  (use \"git restore <file>...\" to discard changes in working directory)\n",
            "\t\u001b[31mmodified:   jupyter_notebooks/01_data_collection.ipynb\u001b[m\n",
            "\t\u001b[31mmodified:   jupyter_notebooks/02_data_cleaning.ipynb\u001b[m\n",
            "\n",
            "Untracked files:\n",
            "  (use \"git add <file>...\" to include in what will be committed)\n",
            "\t\u001b[31mdata/processed/\u001b[m\n",
            "\t\u001b[31msrc/data_cleaning.py\u001b[m\n",
            "\n",
            "no changes added to commit (use \"git add\" and/or \"git commit -a\")\n"
          ]
        }
      ],
      "source": [
        "!git status"
      ]
    },
    {
      "cell_type": "markdown",
      "metadata": {},
      "source": [
        "### 2. Stage all new/updated files"
      ]
    },
    {
      "cell_type": "code",
      "execution_count": null,
      "metadata": {},
      "outputs": [],
      "source": [
        "!git add ."
      ]
    },
    {
      "cell_type": "markdown",
      "metadata": {},
      "source": [
        "### 3. Commit with a descriptive message"
      ]
    },
    {
      "cell_type": "code",
      "execution_count": null,
      "metadata": {},
      "outputs": [],
      "source": [
        "!git commit -m \"Validate 1H data for all pairs, and resample the data to 4H Daily and Weekly OHLC data\""
      ]
    }
  ],
  "metadata": {
    "accelerator": "GPU",
    "colab": {
      "name": "Data Practitioner Jupyter Notebook.ipynb",
      "provenance": [],
      "toc_visible": true
    },
    "kernelspec": {
      "display_name": "3.12.1",
      "language": "python",
      "name": "python3"
    },
    "language_info": {
      "codemirror_mode": {
        "name": "ipython",
        "version": 3
      },
      "file_extension": ".py",
      "mimetype": "text/x-python",
      "name": "python",
      "nbconvert_exporter": "python",
      "pygments_lexer": "ipython3",
      "version": "3.12.1"
    },
    "orig_nbformat": 2
  },
  "nbformat": 4,
  "nbformat_minor": 2
}
